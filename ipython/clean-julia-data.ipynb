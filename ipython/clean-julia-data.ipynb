{
 "cells": [
  {
   "cell_type": "markdown",
   "metadata": {},
   "source": [
    "# Goals\n",
    "+ drop na rows\n",
    "+ lowercase language\n",
    "+ file per language"
   ]
  },
  {
   "cell_type": "code",
   "execution_count": 2,
   "metadata": {},
   "outputs": [],
   "source": [
    "import os, yaml\n",
    "import pandas as pd\n",
    "conffile = '../config/onboarder_thanker_201904.yaml'"
   ]
  },
  {
   "cell_type": "code",
   "execution_count": 32,
   "metadata": {},
   "outputs": [],
   "source": [
    "conf = yaml.safe_load(open(conffile,'r'))"
   ]
  },
  {
   "cell_type": "code",
   "execution_count": 31,
   "metadata": {},
   "outputs": [],
   "source": [
    "pdir = conf['dirs']['project']\n",
    "idir = conf['dirs']['input']"
   ]
  },
  {
   "cell_type": "code",
   "execution_count": 44,
   "metadata": {},
   "outputs": [],
   "source": [
    "consent = pd.read_csv(os.path.join(pdir, idir, 'thanker_consent.csv'))\n",
    "survey = pd.read_csv(os.path.join(pdir, idir, 'thanker_pre_survey.csv'))"
   ]
  },
  {
   "cell_type": "code",
   "execution_count": 47,
   "metadata": {},
   "outputs": [
    {
     "name": "stdout",
     "output_type": "stream",
     "text": [
      "(535, 13)\n",
      "(532, 13)\n"
     ]
    }
   ],
   "source": [
    "print(consent.shape)\n",
    "consent.dropna(inplace=True)\n",
    "print(consent.shape)"
   ]
  },
  {
   "cell_type": "code",
   "execution_count": 48,
   "metadata": {},
   "outputs": [
    {
     "name": "stdout",
     "output_type": "stream",
     "text": [
      "(532, 13)\n",
      "(532, 13)\n"
     ]
    }
   ],
   "source": [
    "print(consent.shape)\n",
    "survey.dropna(inplace=True)\n",
    "print(consent.shape)"
   ]
  },
  {
   "cell_type": "code",
   "execution_count": 51,
   "metadata": {},
   "outputs": [],
   "source": [
    "consent['lang'] = consent['lang'].apply(lambda s: s.lower())\n",
    "survey['lang'] = survey['lang'].apply(lambda s: s.lower())"
   ]
  },
  {
   "cell_type": "code",
   "execution_count": 54,
   "metadata": {},
   "outputs": [
    {
     "data": {
      "text/plain": [
       "de    302\n",
       "pl     78\n",
       "fa     77\n",
       "ar     75\n",
       "Name: lang, dtype: int64"
      ]
     },
     "execution_count": 54,
     "metadata": {},
     "output_type": "execute_result"
    }
   ],
   "source": [
    "consent['lang'].value_counts()\n",
    "survey['lang'].value_counts()"
   ]
  },
  {
   "cell_type": "code",
   "execution_count": 60,
   "metadata": {},
   "outputs": [],
   "source": [
    "langs = consent['lang'].value_counts().index.tolist()"
   ]
  },
  {
   "cell_type": "code",
   "execution_count": 68,
   "metadata": {},
   "outputs": [],
   "source": [
    "for lang in langs:\n",
    "    sub_consent = consent[consent['lang']==lang]\n",
    "    sub_survey = survey[survey['lang']==lang]\n",
    "    fname_consent = f'{lang}_consented_thankers.csv'\n",
    "    fname_survey = f'{lang}_pre_surveys.csv'\n",
    "    sub_consent.to_csv(os.path.join(pdir, idir, fname_consent))\n",
    "    sub_survey.to_csv(os.path.join(pdir, idir, fname_survey))"
   ]
  },
  {
   "cell_type": "code",
   "execution_count": null,
   "metadata": {},
   "outputs": [],
   "source": []
  }
 ],
 "metadata": {
  "kernelspec": {
   "display_name": "Python 3",
   "language": "python",
   "name": "python3"
  },
  "language_info": {
   "codemirror_mode": {
    "name": "ipython",
    "version": 3
   },
   "file_extension": ".py",
   "mimetype": "text/x-python",
   "name": "python",
   "nbconvert_exporter": "python",
   "pygments_lexer": "ipython3",
   "version": "3.6.7"
  }
 },
 "nbformat": 4,
 "nbformat_minor": 1
}
